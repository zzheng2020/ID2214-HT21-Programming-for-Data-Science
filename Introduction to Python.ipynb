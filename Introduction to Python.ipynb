{
 "cells": [
  {
   "cell_type": "markdown",
   "metadata": {},
   "source": [
    "## Introduction to Python"
   ]
  },
  {
   "cell_type": "code",
   "execution_count": null,
   "metadata": {},
   "outputs": [],
   "source": [
    "# A variable is created when a value is assigned to it\n",
    "v = 3.6\n",
    "display(v)"
   ]
  },
  {
   "cell_type": "code",
   "execution_count": null,
   "metadata": {},
   "outputs": [],
   "source": [
    "# There are three types of numbers; int, float and complex\n",
    "i = 314\n",
    "display(i)"
   ]
  },
  {
   "cell_type": "code",
   "execution_count": null,
   "metadata": {},
   "outputs": [],
   "source": [
    "f = 3.14e2\n",
    "display(f)"
   ]
  },
  {
   "cell_type": "code",
   "execution_count": null,
   "metadata": {},
   "outputs": [],
   "source": [
    "z = 2+3j\n",
    "display(z)"
   ]
  },
  {
   "cell_type": "code",
   "execution_count": null,
   "metadata": {},
   "outputs": [],
   "source": [
    "# The type of a variable can be checked with isinstance(...)\n",
    "b = isinstance(i,float)\n",
    "display(b)"
   ]
  },
  {
   "cell_type": "code",
   "execution_count": null,
   "metadata": {},
   "outputs": [],
   "source": [
    "# Strings (str) are surrounded by single or double quotes\n",
    "b = isinstance(\"i\",str)\n",
    "display(b)"
   ]
  },
  {
   "cell_type": "code",
   "execution_count": null,
   "metadata": {},
   "outputs": [],
   "source": [
    "# Booleans (bool)\n",
    "b1 = True\n",
    "b2 = isinstance(b1,bool)\n",
    "b3 = isinstance(\"True\",bool)\n",
    "display(b1)\n",
    "display(b2)\n",
    "display(b3)"
   ]
  },
  {
   "cell_type": "code",
   "execution_count": null,
   "metadata": {},
   "outputs": [],
   "source": [
    "# Casting using constructor functions;\n",
    "# int(...), float(...), str(...)\n",
    "i = int(3.14)\n",
    "display(i)"
   ]
  },
  {
   "cell_type": "code",
   "execution_count": null,
   "metadata": {},
   "outputs": [],
   "source": [
    "f = float(3)\n",
    "display(f)"
   ]
  },
  {
   "cell_type": "code",
   "execution_count": null,
   "metadata": {},
   "outputs": [],
   "source": [
    "s = str(3.14)\n",
    "display(s)"
   ]
  },
  {
   "cell_type": "code",
   "execution_count": null,
   "metadata": {},
   "outputs": [],
   "source": [
    "f = float(s)\n",
    "display(f)"
   ]
  },
  {
   "cell_type": "code",
   "execution_count": null,
   "metadata": {},
   "outputs": [],
   "source": [
    "i = int(float(\"3.14\"))\n",
    "display(i)"
   ]
  },
  {
   "cell_type": "code",
   "execution_count": null,
   "metadata": {},
   "outputs": [],
   "source": [
    "b = bool(\"hello\")\n",
    "display(b)\n",
    "b = bool(\"\")\n",
    "display(b)\n",
    "b = bool(5)\n",
    "display(b)\n",
    "b = bool(0.0)\n",
    "display(b)"
   ]
  },
  {
   "cell_type": "code",
   "execution_count": null,
   "metadata": {},
   "outputs": [],
   "source": [
    "# Arithmetic operators;\n",
    "# +, -, *, /, ** (exp.), // (floor div.), % (modulus)\n",
    "v = 2.0 + 2**3\n",
    "display(v)"
   ]
  },
  {
   "cell_type": "code",
   "execution_count": null,
   "metadata": {},
   "outputs": [],
   "source": [
    "# Assignment operators;\n",
    "# =, +=, -=, *=, /=\n",
    "x = 12\n",
    "x += 2\n",
    "display(x)"
   ]
  },
  {
   "cell_type": "code",
   "execution_count": null,
   "metadata": {},
   "outputs": [],
   "source": [
    "# Comparison operators;\n",
    "# ==, !=, >, <, >=, <=\n",
    "b = 2.0 == 2\n",
    "display(b)"
   ]
  },
  {
   "cell_type": "code",
   "execution_count": null,
   "metadata": {},
   "outputs": [],
   "source": [
    "# Logical operators;\n",
    "# and, or, not\n",
    "b = 1+1 == 2 and not 4>5\n",
    "display(b)"
   ]
  },
  {
   "cell_type": "code",
   "execution_count": null,
   "metadata": {},
   "outputs": [],
   "source": [
    "# Identity operators;\n",
    "# is, is not\n",
    "b = (2 is not 2.0)\n",
    "display(b)"
   ]
  },
  {
   "cell_type": "code",
   "execution_count": null,
   "metadata": {},
   "outputs": [],
   "source": [
    "b = (1+1 is 2)\n",
    "display(b)"
   ]
  },
  {
   "cell_type": "code",
   "execution_count": null,
   "metadata": {},
   "outputs": [],
   "source": [
    "a = [1,2,3]\n",
    "b = [1,2,3]\n",
    "b = a\n",
    "display(a is b)"
   ]
  },
  {
   "cell_type": "code",
   "execution_count": null,
   "metadata": {},
   "outputs": [],
   "source": [
    "# Lists (indexed, ordered, changeable)\n",
    "lang = [\"Python\",\"r\",\"Julia\"]\n",
    "first_element = lang[0]\n",
    "first_two = lang[0:2]\n",
    "display(first_element)\n",
    "display(first_two)"
   ]
  },
  {
   "cell_type": "code",
   "execution_count": null,
   "metadata": {},
   "outputs": [],
   "source": [
    "all_but_first = lang[1:]\n",
    "all_but_last = lang[:-1]\n",
    "lang[1] = \"R\"\n",
    "lang += [\"S\"]\n",
    "display(lang)"
   ]
  },
  {
   "cell_type": "code",
   "execution_count": null,
   "metadata": {},
   "outputs": [],
   "source": [
    "l1 = [\"a\",\"b\",\"b\"]\n",
    "display(len(l1))"
   ]
  },
  {
   "cell_type": "code",
   "execution_count": null,
   "metadata": {},
   "outputs": [],
   "source": [
    "display(l1.count(\"b\"))"
   ]
  },
  {
   "cell_type": "code",
   "execution_count": null,
   "metadata": {},
   "outputs": [],
   "source": [
    "l1.append(\"c\")\n",
    "display(l1)"
   ]
  },
  {
   "cell_type": "code",
   "execution_count": null,
   "metadata": {},
   "outputs": [],
   "source": [
    "l1.remove(\"b\")\n",
    "display(l1)"
   ]
  },
  {
   "cell_type": "code",
   "execution_count": null,
   "metadata": {},
   "outputs": [],
   "source": [
    "l1.extend([\"d\",\"e\"])\n",
    "display(l1)"
   ]
  },
  {
   "cell_type": "code",
   "execution_count": null,
   "metadata": {},
   "outputs": [],
   "source": [
    "l2 =  [1,2,3]+[4,5]\n",
    "display(l2)"
   ]
  },
  {
   "cell_type": "code",
   "execution_count": null,
   "metadata": {},
   "outputs": [],
   "source": [
    "display(1 in l2)"
   ]
  },
  {
   "cell_type": "code",
   "execution_count": null,
   "metadata": {},
   "outputs": [],
   "source": [
    "# Tuples (indexed, ordered, items cannot be changed)\n",
    "fixed = (\"a\",\"b\",\"c\")\n",
    "f = fixed[1]\n",
    "display(f)"
   ]
  },
  {
   "cell_type": "code",
   "execution_count": null,
   "metadata": {},
   "outputs": [],
   "source": [
    "# Results in error:\n",
    "# fixed[0]= \"d\""
   ]
  },
  {
   "cell_type": "code",
   "execution_count": null,
   "metadata": {},
   "outputs": [],
   "source": [
    "display(\"c\" in fixed)"
   ]
  },
  {
   "cell_type": "code",
   "execution_count": null,
   "metadata": {},
   "outputs": [],
   "source": [
    "# Sets (not indexed, unordered, no duplicates)\n",
    "s = {\"a\",\"b\",\"b\",\"c\"}\n",
    "s.remove(\"a\")\n",
    "display(s)"
   ]
  },
  {
   "cell_type": "code",
   "execution_count": null,
   "metadata": {},
   "outputs": [],
   "source": [
    "s.add(\"d\")\n",
    "display(s)"
   ]
  },
  {
   "cell_type": "code",
   "execution_count": null,
   "metadata": {},
   "outputs": [],
   "source": [
    "s = s.union(set(lang))\n",
    "display(s)"
   ]
  },
  {
   "cell_type": "code",
   "execution_count": null,
   "metadata": {},
   "outputs": [],
   "source": [
    "s = s.difference(set([\"b\",\"c\",\"d\"]))\n",
    "display(s)"
   ]
  },
  {
   "cell_type": "code",
   "execution_count": null,
   "metadata": {},
   "outputs": [],
   "source": [
    "s = s.intersection(set([\"Python\",\"F#\"]))\n",
    "display(s)"
   ]
  },
  {
   "cell_type": "code",
   "execution_count": null,
   "metadata": {},
   "outputs": [],
   "source": [
    "display(\"S\" in s)"
   ]
  },
  {
   "cell_type": "code",
   "execution_count": null,
   "metadata": {},
   "outputs": [],
   "source": [
    "display(s < set(lang))"
   ]
  },
  {
   "cell_type": "code",
   "execution_count": null,
   "metadata": {},
   "outputs": [],
   "source": [
    "# Dictionaries (indexed, unordered, changeable)\n",
    "d = {\"Python\":1994,\"R\":1995,\"Julia\":2018}\n",
    "y = d[\"R\"]\n",
    "d[\"S\"] = 1976\n",
    "display(list(d.keys()))"
   ]
  },
  {
   "cell_type": "code",
   "execution_count": null,
   "metadata": {},
   "outputs": [],
   "source": [
    "display(list(d.values()))"
   ]
  },
  {
   "cell_type": "code",
   "execution_count": null,
   "metadata": {},
   "outputs": [],
   "source": [
    "# Results in error:\n",
    "# display(d[\"T\"])"
   ]
  },
  {
   "cell_type": "code",
   "execution_count": null,
   "metadata": {},
   "outputs": [],
   "source": [
    "t = d.get(\"T\")\n",
    "display(t)"
   ]
  },
  {
   "cell_type": "code",
   "execution_count": null,
   "metadata": {},
   "outputs": [],
   "source": [
    "t = d.get(\"T\", 0)\n",
    "display(t)"
   ]
  },
  {
   "cell_type": "code",
   "execution_count": null,
   "metadata": {},
   "outputs": [],
   "source": [
    "d2 = {(\"a\",1):500, (\"b\",2):250}\n",
    "d2[(\"b\",2)]\n",
    "display(d2)"
   ]
  },
  {
   "cell_type": "code",
   "execution_count": null,
   "metadata": {},
   "outputs": [],
   "source": [
    "# if statements (with elif and else)\n",
    "n = 2 # try with different values\n",
    "if n>5:\n",
    "    print(\"more than 5\")\n",
    "elif n == 5:\n",
    "    print(\"equal to 5\")\n",
    "else:\n",
    "    print(\"less than 5\")"
   ]
  },
  {
   "cell_type": "code",
   "execution_count": null,
   "metadata": {},
   "outputs": [],
   "source": [
    "# for loops\n",
    "for i in range(3):\n",
    "    print(i)"
   ]
  },
  {
   "cell_type": "code",
   "execution_count": null,
   "metadata": {},
   "outputs": [],
   "source": [
    "for i in [1,2,3]:\n",
    "    print(i)"
   ]
  },
  {
   "cell_type": "code",
   "execution_count": null,
   "metadata": {},
   "outputs": [],
   "source": [
    "for i in \"hello\":\n",
    "    print(i)"
   ]
  },
  {
   "cell_type": "code",
   "execution_count": null,
   "metadata": {},
   "outputs": [],
   "source": [
    "for e in enumerate([\"a\",\"b\",\"c\"]):\n",
    "    print(e)"
   ]
  },
  {
   "cell_type": "code",
   "execution_count": null,
   "metadata": {},
   "outputs": [],
   "source": [
    "for e in enumerate([\"a\",\"b\",\"c\"]):\n",
    "    if e[0] % 2 == 0:\n",
    "        print(e[1])"
   ]
  },
  {
   "cell_type": "code",
   "execution_count": null,
   "metadata": {},
   "outputs": [],
   "source": [
    "# for loops (with break and continue)\n",
    "for i in [1,2,3]:\n",
    "    if i % 2 == 0:\n",
    "        break\n",
    "    print(i)"
   ]
  },
  {
   "cell_type": "code",
   "execution_count": null,
   "metadata": {},
   "outputs": [],
   "source": [
    "for i in [1,2,3]:\n",
    "    if i % 2 == 0:\n",
    "        continue\n",
    "    print(i)"
   ]
  },
  {
   "cell_type": "code",
   "execution_count": null,
   "metadata": {},
   "outputs": [],
   "source": [
    "# while loops (with break and continue)\n",
    "i = 1\n",
    "while i < 4:\n",
    "    print(i)\n",
    "    i += 1\n",
    "i = 1\n",
    "print(\"new loop:\")\n",
    "while i < 4:\n",
    "    if i % 2 == 0:\n",
    "        break\n",
    "    print(i)\n",
    "    i += 1"
   ]
  },
  {
   "cell_type": "code",
   "execution_count": null,
   "metadata": {},
   "outputs": [],
   "source": [
    "# The following results in an infinite loop:\n",
    "#i = 1\n",
    "#while i < 4:\n",
    "#    if i % 2 == 0:\n",
    "#        continue\n",
    "#    print(i)\n",
    "#    i += 1\n",
    "#print(\"This will never be printed - press the stop button!\")"
   ]
  },
  {
   "cell_type": "code",
   "execution_count": null,
   "metadata": {},
   "outputs": [],
   "source": [
    "# Creating lists without for/while loops\n",
    "nl = []\n",
    "for la in lang:\n",
    "    nl += [la.lower()]\n",
    "display(nl)"
   ]
  },
  {
   "cell_type": "code",
   "execution_count": null,
   "metadata": {},
   "outputs": [],
   "source": [
    "# Equivalent (but more efficient):\n",
    "nl = [la.lower() for la in lang]\n",
    "display(nl)"
   ]
  },
  {
   "cell_type": "code",
   "execution_count": null,
   "metadata": {},
   "outputs": [],
   "source": [
    "# Include only items with multiple characters\n",
    "nl = [la.lower() for la in lang if len(la) > 1]\n",
    "display(nl)"
   ]
  },
  {
   "cell_type": "code",
   "execution_count": null,
   "metadata": {},
   "outputs": [],
   "source": [
    "# Convert items only with multiple characters\n",
    "nl = [la.lower() if len(la) > 1 else la for la in lang]\n",
    "display(nl)"
   ]
  },
  {
   "cell_type": "code",
   "execution_count": null,
   "metadata": {},
   "outputs": [],
   "source": [
    "# Generate a list with all characters\n",
    "cs = [c for la in lang for c in la]\n",
    "display(cs)"
   ]
  },
  {
   "cell_type": "code",
   "execution_count": null,
   "metadata": {},
   "outputs": [],
   "source": [
    "# functions (using def and return)\n",
    "def add_one_and_print(a):\n",
    "    a += 1\n",
    "    print(a)\n",
    "    return a\n",
    "b = 1\n",
    "c = add_one_and_print(b)\n",
    "print(b)"
   ]
  },
  {
   "cell_type": "code",
   "execution_count": null,
   "metadata": {},
   "outputs": [],
   "source": [
    "def add_two_to_second(l1):\n",
    "    l1[1] += 2\n",
    "l = [1,2,3,4,5]\n",
    "r = add_two_to_second(l)\n",
    "print(l)\n",
    "r is None"
   ]
  },
  {
   "cell_type": "code",
   "execution_count": null,
   "metadata": {},
   "outputs": [],
   "source": [
    "# functions with default argument values\n",
    "def diff(a=10,b=20):\n",
    "    return a-b\n",
    "d0 = diff()\n",
    "display(d0)"
   ]
  },
  {
   "cell_type": "code",
   "execution_count": null,
   "metadata": {},
   "outputs": [],
   "source": [
    "d1 = diff(5,6)\n",
    "display(d1)"
   ]
  },
  {
   "cell_type": "code",
   "execution_count": null,
   "metadata": {},
   "outputs": [],
   "source": [
    "d2 = diff(5)\n",
    "display(d2)"
   ]
  },
  {
   "cell_type": "code",
   "execution_count": null,
   "metadata": {},
   "outputs": [],
   "source": [
    "d3 = diff(b=5)\n",
    "display(d3)"
   ]
  },
  {
   "cell_type": "code",
   "execution_count": null,
   "metadata": {},
   "outputs": [],
   "source": [
    "d4 = diff(b=2,a=3)\n",
    "display(d4)"
   ]
  },
  {
   "cell_type": "code",
   "execution_count": null,
   "metadata": {},
   "outputs": [],
   "source": [
    "# Lambda functions = anonymous functions with one expression\n",
    "r = (lambda x: x+1)(5)\n",
    "display(r)"
   ]
  },
  {
   "cell_type": "code",
   "execution_count": null,
   "metadata": {},
   "outputs": [],
   "source": [
    "f = lambda x,y: x+y\n",
    "sum = f(2,3)\n",
    "display(sum)"
   ]
  },
  {
   "cell_type": "code",
   "execution_count": null,
   "metadata": {},
   "outputs": [],
   "source": [
    "def deriv(f,x,h):\n",
    "    return (f(x+h)-f(x))/h\n",
    "display(deriv(lambda x: x**2,8,1e-10))"
   ]
  },
  {
   "cell_type": "code",
   "execution_count": null,
   "metadata": {},
   "outputs": [],
   "source": [
    "# Class definitions (using class)\n",
    "class DSLang:\n",
    "    def __init__(self, name, year):\n",
    "        self.name = name\n",
    "        self.year = year\n",
    "l1 = DSLang(\"Python\",1994)\n",
    "l2 = DSLang(\"Julia\",2018)\n",
    "print(l1.name)"
   ]
  },
  {
   "cell_type": "code",
   "execution_count": null,
   "metadata": {},
   "outputs": [],
   "source": [
    "# Methods\n",
    "class DSLang:\n",
    "    def __init__(self, name, year):\n",
    "        self.name = name\n",
    "        self.year = year\n",
    "    def age(self,current_year):\n",
    "        return current_year-self.year\n",
    "l2 = DSLang(\"Julia\",2018)\n",
    "print(l2.age(2019))"
   ]
  },
  {
   "cell_type": "code",
   "execution_count": null,
   "metadata": {},
   "outputs": [],
   "source": [
    "# Special methods\n",
    "class Super:\n",
    "    def __init__(self, age):\n",
    "        self.age = age\n",
    "    def __str__(self):\n",
    "        return \"My age is: \"+str(self.age)\n",
    "    def __eq__(self,other):\n",
    "        return other == self.age\n",
    "    def __len__(self):\n",
    "        return self.age\n",
    "o = Super(5)\n",
    "print(o)\n",
    "display(o == 5)"
   ]
  },
  {
   "cell_type": "code",
   "execution_count": null,
   "metadata": {},
   "outputs": [],
   "source": [
    "# Inheritance\n",
    "class Sub(Super):\n",
    "    def __init__(self,age=3):\n",
    "        self.age = age\n",
    "s = Sub()\n",
    "print(s)\n",
    "display(len(s))"
   ]
  },
  {
   "cell_type": "code",
   "execution_count": null,
   "metadata": {},
   "outputs": [],
   "source": [
    "# Import a module and use its definitions\n",
    "import my_definitions\n",
    "lo = my_definitions.DSLang(\"R\",1995)"
   ]
  },
  {
   "cell_type": "code",
   "execution_count": null,
   "metadata": {},
   "outputs": [],
   "source": [
    "import my_definitions as md\n",
    "lo = md.DSLang(\"R\",1995)"
   ]
  },
  {
   "cell_type": "code",
   "execution_count": null,
   "metadata": {},
   "outputs": [],
   "source": [
    "from my_definitions import DSLang\n",
    "lo = DSLang(\"R\",1995)"
   ]
  },
  {
   "cell_type": "code",
   "execution_count": null,
   "metadata": {},
   "outputs": [],
   "source": [
    "# Reloading a module (after having edited its definitions)\n",
    "from importlib import reload\n",
    "reload(my_definitions)"
   ]
  },
  {
   "cell_type": "code",
   "execution_count": null,
   "metadata": {},
   "outputs": [],
   "source": [
    "# Write to standard output\n",
    "print(\"R\",1995)\n",
    "print(\"N:{} Y:{}\".format(\"R\",1995))\n",
    "print(\"F: {:.2f}\".format(31.41592))\n",
    "print(\"F: {:.4f}\".format(31.41592))\n",
    "print(\"E: {:.4e}\".format(31.41592))\n",
    "print(\"S: {1:10.2f}\".format(1,2,3))"
   ]
  },
  {
   "cell_type": "code",
   "execution_count": null,
   "metadata": {},
   "outputs": [],
   "source": [
    "# Write to files\n",
    "f = open(\"temp.txt\",\"w\")\n",
    "result = [1,2,3]\n",
    "f.write(str(result))\n",
    "f.close()"
   ]
  },
  {
   "cell_type": "code",
   "execution_count": null,
   "metadata": {},
   "outputs": [],
   "source": [
    "f = open(\"temp.txt\",\"a\")\n",
    "f.write(\"Bye!\\n\")\n",
    "f.close()"
   ]
  }
 ],
 "metadata": {
  "kernelspec": {
   "display_name": "Python 3",
   "language": "python",
   "name": "python3"
  },
  "language_info": {
   "codemirror_mode": {
    "name": "ipython",
    "version": 3
   },
   "file_extension": ".py",
   "mimetype": "text/x-python",
   "name": "python",
   "nbconvert_exporter": "python",
   "pygments_lexer": "ipython3",
   "version": "3.7.8"
  }
 },
 "nbformat": 4,
 "nbformat_minor": 4
}
